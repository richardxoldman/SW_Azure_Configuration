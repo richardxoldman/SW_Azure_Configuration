{
  "cells": [
    {
      "cell_type": "code",
      "execution_count": null,
      "metadata": {
        "gather": {
          "logged": 1675681658470
        }
      },
      "outputs": [],
      "source": [
        "import azureml.core\n",
        "from azureml.core import Workspace\n",
        "from azureml.core import Dataset\n",
        "from azureml.data.datapath import DataPath\n",
        "from azureml.core import Environment\n",
        "\n",
        "\n",
        "ws = Workspace.from_config()\n",
        "print(f'Ready to use Azure ML {azureml.core.VERSION} to work with {ws.name}')"
      ]
    },
    {
      "cell_type": "code",
      "execution_count": null,
      "metadata": {},
      "outputs": [],
      "source": [
        "default_ds = ws.get_default_datastore()\n",
        "Dataset.File.upload_directory(src_dir='dataset9.01.2023', target=DataPath(default_ds, 'leaves/'))"
      ]
    },
    {
      "cell_type": "code",
      "execution_count": null,
      "metadata": {},
      "outputs": [],
      "source": [
        "file_data_set = Dataset.File.from_files(path=(default_ds, 'leaves/*/*.jpg'))\n",
        "\n",
        "try:\n",
        "    file_data_set = file_data_set.register(workspace=ws, name='leaves dataset', create_new_version=True)\n",
        "except Exception as ex:\n",
        "    print(ex)\n",
        "\n",
        "print('Datasets registered')"
      ]
    },
    {
      "cell_type": "code",
      "execution_count": null,
      "metadata": {
        "gather": {
          "logged": 1675685584676
        },
        "jupyter": {
          "outputs_hidden": false,
          "source_hidden": false
        },
        "nteract": {
          "transient": {
            "deleting": false
          }
        }
      },
      "outputs": [],
      "source": [
        "experiment_env = Environment.get(ws, \"AzureML-tensorflow-2.7-ubuntu20.04-py38-cuda11-gpu\")\n",
        "# experiment_env.python.user_managed_dependencies = False \n",
        "\n",
        "print(experiment_env.name, 'defined.')"
      ]
    },
    {
      "cell_type": "code",
      "execution_count": 29,
      "metadata": {
        "gather": {
          "logged": 1675685586786
        },
        "jupyter": {
          "outputs_hidden": false,
          "source_hidden": false
        },
        "nteract": {
          "transient": {
            "deleting": false
          }
        }
      },
      "outputs": [],
      "source": [
        "dataset = Dataset.get_by_name(workspace=ws, name=\"leaves dataset\", version=1)"
      ]
    },
    {
      "cell_type": "code",
      "execution_count": null,
      "metadata": {
        "gather": {
          "logged": 1675685594146
        },
        "jupyter": {
          "outputs_hidden": false,
          "source_hidden": false
        },
        "nteract": {
          "transient": {
            "deleting": false
          }
        }
      },
      "outputs": [],
      "source": [
        "from azureml.core.compute import ComputeTarget, AmlCompute\n",
        "from azureml.core.compute_target import ComputeTargetException\n",
        "\n",
        "cluster_name = \"sw-compute-cluster\"\n",
        "\n",
        "try:\n",
        "    # Check for existing compute target\n",
        "    training_cluster = ComputeTarget(workspace=ws, name=cluster_name)\n",
        "    print('Found existing cluster, use it.')\n",
        "except ComputeTargetException:\n",
        "    # If it doesn't already exist, create it\n",
        "    try:\n",
        "        compute_config = AmlCompute.provisioning_configuration(vm_size='Standard_NC6', max_nodes=1, idle_seconds_before_scaledown=600)\n",
        "        training_cluster = ComputeTarget.create(ws, cluster_name, compute_config)\n",
        "        training_cluster.wait_for_completion(show_output=True)\n",
        "    except Exception as ex:\n",
        "        print(ex)"
      ]
    },
    {
      "cell_type": "code",
      "execution_count": 48,
      "metadata": {
        "gather": {
          "logged": 1675697431356
        },
        "jupyter": {
          "outputs_hidden": false,
          "source_hidden": false
        },
        "nteract": {
          "transient": {
            "deleting": false
          }
        }
      },
      "outputs": [],
      "source": [
        "from azureml.core import Experiment, ScriptRunConfig\n",
        "from azureml.core.runconfig import DockerConfiguration\n",
        "from azureml.train.hyperdrive import GridParameterSampling, HyperDriveConfig, PrimaryMetricGoal, choice\n",
        "\n",
        "\n",
        "script_config = ScriptRunConfig(source_directory=\"scripts\",\n",
        "                                script='train_script.py',\n",
        "                                arguments = ['--input-data', dataset.as_named_input('training_files').as_download()], # Reference to dataset\n",
        "                                environment=experiment_env,\n",
        "                                compute_target=cluster_name,\n",
        "                                docker_runtime_config=DockerConfiguration(use_docker=True)) # Use docker to host environment\n",
        "\n",
        "params = GridParameterSampling(\n",
        "    {\n",
        "        '--initial_learning_rate': choice(0.001, 0.00001),\n",
        "        '--optimizer' : choice(\"Adam\", \"RMSprop\"),\n",
        "        '--mobilenet_version': choice(\"Small\", \"Large\"),\n",
        "        '--augmentation_variant': choice(1, 2, 3, 4),\n",
        "        '--limit_artificials': choice(0, 2500, 5000)\n",
        "    }\n",
        ")\n",
        "\n",
        "hyperdrive = HyperDriveConfig(run_config=script_config, \n",
        "                          hyperparameter_sampling=params, \n",
        "                          policy=None,\n",
        "                          primary_metric_name='MAE', \n",
        "                          primary_metric_goal=PrimaryMetricGoal.MINIMIZE, \n",
        "                          max_total_runs=96, \n",
        "                          max_concurrent_runs=8) \n",
        "\n",
        "experiment = Experiment(workspace=ws, name='sw_experiment_final')\n",
        "run = experiment.submit(config=hyperdrive)"
      ]
    }
  ],
  "metadata": {
    "kernel_info": {
      "name": "python38-azureml"
    },
    "kernelspec": {
      "display_name": "base",
      "language": "python",
      "name": "python3"
    },
    "language_info": {
      "codemirror_mode": {
        "name": "ipython",
        "version": 3
      },
      "file_extension": ".py",
      "mimetype": "text/x-python",
      "name": "python",
      "nbconvert_exporter": "python",
      "pygments_lexer": "ipython3",
      "version": "3.9.7"
    },
    "microsoft": {
      "host": {
        "AzureML": {
          "notebookHasBeenCompleted": true
        }
      }
    },
    "nteract": {
      "version": "nteract-front-end@1.0.0"
    },
    "vscode": {
      "interpreter": {
        "hash": "d6fcb3560613de4ec4d597653235238868c1d56ca5beee9ac8cba120217b2bf8"
      }
    }
  },
  "nbformat": 4,
  "nbformat_minor": 2
}
